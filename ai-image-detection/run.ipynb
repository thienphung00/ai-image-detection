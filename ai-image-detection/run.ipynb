# Jupyter-friendly example usage
from s3_utils.process_fft_s3 import process_s3_folder

process_s3_folder(
    bucket_name='df40-sagemaker-thienphung',
    source_prefix='df40-train/unzipped/',
    target_prefix='df40-train/fft/'
)

process_s3_folder(
    bucket_name='df40-sagemaker-thienphung',
    source_prefix='df40-test/unzipped/',
    target_prefix='df40-test/fft/'
)
