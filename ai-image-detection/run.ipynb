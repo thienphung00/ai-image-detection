{
 "cells": [
  {
   "cell_type": "code",
   "execution_count": 3,
   "id": "3d1340f1-6b07-4d10-8ee2-8cf16defb0d6",
   "metadata": {},
   "outputs": [
    {
     "ename": "ModuleNotFoundError",
     "evalue": "No module named 'cv2'",
     "output_type": "error",
     "traceback": [
      "\u001b[31m---------------------------------------------------------------------------\u001b[39m",
      "\u001b[31mModuleNotFoundError\u001b[39m                       Traceback (most recent call last)",
      "\u001b[36mCell\u001b[39m\u001b[36m \u001b[39m\u001b[32mIn[3]\u001b[39m\u001b[32m, line 9\u001b[39m\n\u001b[32m      7\u001b[39m \u001b[38;5;66;03m#from preprocessing import preprocess, utils\u001b[39;00m\n\u001b[32m      8\u001b[39m \u001b[38;5;28;01mimport\u001b[39;00m\u001b[38;5;250m \u001b[39m\u001b[34;01mmatplotlib\u001b[39;00m\u001b[34;01m.\u001b[39;00m\u001b[34;01mpyplot\u001b[39;00m\u001b[38;5;250m \u001b[39m\u001b[38;5;28;01mas\u001b[39;00m\u001b[38;5;250m \u001b[39m\u001b[34;01mplt\u001b[39;00m\n\u001b[32m----> \u001b[39m\u001b[32m9\u001b[39m \u001b[38;5;28;01mimport\u001b[39;00m\u001b[38;5;250m \u001b[39m\u001b[34;01mcv2\u001b[39;00m\n",
      "\u001b[31mModuleNotFoundError\u001b[39m: No module named 'cv2'"
     ]
    }
   ],
   "source": [
    "# Load config and setup paths\n",
    "import sys\n",
    "import os\n",
    "sys.path.append(os.path.abspath('../'))  # Adjust if needed\n",
    "\n",
    "from config import settings\n",
    "#from preprocessing import preprocess, utils\n",
    "import matplotlib.pyplot as plt\n",
    "import cv2"
   ]
  },
  {
   "cell_type": "code",
   "execution_count": null,
   "id": "e7c1eb28-b1b4-4a7f-84c3-5209821eabb6",
   "metadata": {},
   "outputs": [],
   "source": [
    "# Choose a sample image\n",
    "sample_path = os.path.join(settings.DF40_DIR, 'StyleGAN3', 'fake', 'sample.jpg')  # Use a real path to test\n",
    "\n",
    "# Load image using OpenCV\n",
    "image = cv2.imread(sample_path)\n",
    "image_rgb = cv2.cvtColor(image, cv2.COLOR_BGR2RGB)\n",
    "\n",
    "# Show original\n",
    "plt.imshow(image_rgb)\n",
    "plt.title(\"Original Image\")\n",
    "plt.axis('off')\n",
    "plt.show()"
   ]
  },
  {
   "cell_type": "code",
   "execution_count": null,
   "id": "afa5baf5-b969-4e28-8387-27512b4ad71d",
   "metadata": {},
   "outputs": [],
   "source": [
    "# Resize and normalize\n",
    "processed = preprocess.preprocess_image(sample_path, target_size=settings.IMG_SIZE)\n",
    "\n",
    "# Convert to tensor format if needed\n",
    "print(f\"Processed shape: {processed.shape}\")"
   ]
  }
 ],
 "metadata": {
  "kernelspec": {
   "display_name": "DF40 AI Detection",
   "language": "python",
   "name": "df40-kernel"
  },
  "language_info": {
   "codemirror_mode": {
    "name": "ipython",
    "version": 3
   },
   "file_extension": ".py",
   "mimetype": "text/x-python",
   "name": "python",
   "nbconvert_exporter": "python",
   "pygments_lexer": "ipython3",
   "version": "3.13.5"
  }
 },
 "nbformat": 4,
 "nbformat_minor": 5
}
